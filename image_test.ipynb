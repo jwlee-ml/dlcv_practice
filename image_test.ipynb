{
 "cells": [
  {
   "cell_type": "code",
   "execution_count": null,
   "metadata": {},
   "outputs": [],
   "source": [
    "import os"
   ]
  },
  {
   "cell_type": "code",
   "execution_count": null,
   "metadata": {},
   "outputs": [],
   "source": [
    "cur_dir = os.getcwd()\n",
    "data_dir = os.path.join(cur_dir, 'oxford_pet')\n",
    "image_dir = os.path.join(data_dir, 'images')\n",
    "bbox_dir = os.path.join(data_dir, 'annotations', 'xmls')\n",
    "seg_dir = os.path.join(data_dir, 'annotations', 'trimaps')"
   ]
  },
  {
   "cell_type": "code",
   "execution_count": null,
   "metadata": {},
   "outputs": [],
   "source": [
    "bbox_files = [fname for fname in os.listdir(bbox_dir) if os.path.splitext(fname)[-1] == '.xml']\n",
    "len(bbox_files)"
   ]
  },
  {
   "cell_type": "code",
   "execution_count": null,
   "metadata": {},
   "outputs": [],
   "source": [
    "seg_files = [fname for fname in os.listdir(seg_dir) if os.path.splitext(fname)[-1] == '.png']\n",
    "len(seg_files)"
   ]
  },
  {
   "cell_type": "code",
   "execution_count": null,
   "metadata": {},
   "outputs": [],
   "source": [
    "image_files = [fname for fname in os.listdir(image_dir) if os.path.splitext(fname)[-1] == '.jpg']\n",
    "print(len(image_files))"
   ]
  },
  {
   "cell_type": "code",
   "execution_count": null,
   "metadata": {},
   "outputs": [],
   "source": [
    "image_files[:10]"
   ]
  },
  {
   "cell_type": "code",
   "execution_count": null,
   "metadata": {},
   "outputs": [],
   "source": [
    "import random\n",
    "import numpy as np\n",
    "from PIL import Image\n",
    "import xml.etree.ElementTree as et\n",
    "import matplotlib.pyplot as plt\n",
    "from matplotlib.patches import Rectangle"
   ]
  },
  {
   "cell_type": "code",
   "execution_count": null,
   "metadata": {
    "scrolled": true
   },
   "outputs": [],
   "source": [
    "rnd_idx = random.randint(1, len(image_files))\n",
    "fname = image_files[rnd_idx]\n",
    "fpath = os.path.join(image_dir, fname)\n",
    "image = Image.open(fpath)\n",
    "image = np.array(image)\n",
    "\n",
    "bbox_name = os.path.splitext(fname)[0]+'.xml'\n",
    "bbox_path = os.path.join(bbox_dir, bbox_name)\n",
    "tree = et.parse(bbox_path)\n",
    "\n",
    "width = float(tree.find('./size/width').text)\n",
    "height = float(tree.find('.size/height').text)\n",
    "xmin = float(tree.find('./object/bndbox/xmin').text)\n",
    "ymin = float(tree.find('./object/bndbox/ymin').text)\n",
    "xmax = float(tree.find('./object/bndbox/xmax').text)\n",
    "ymax = float(tree.find('./object/bndbox/ymax').text)\n",
    "\n",
    "rect_x = xmin\n",
    "rect_y = ymin\n",
    "rect_w = xmax-xmin\n",
    "rect_h = ymax-ymin\n",
    "\n",
    "rect = Rectangle((rect_x, rect_y), rect_w, rect_h, fill=False, color='red')\n",
    "plt.axes().add_patch(rect)\n",
    "plt.imshow(image)\n",
    "plt.show()"
   ]
  },
  {
   "cell_type": "code",
   "execution_count": null,
   "metadata": {},
   "outputs": [],
   "source": [
    "sname = os.path.splitext(fname)[0] + '.png'\n",
    "spath = os.path.join(seg_dir, sname)    \n",
    "seg = Image.open(spath)\n",
    "seg = np.array(seg)\n",
    "\n",
    "plt.figure(figsize=(10, 4))\n",
    "plt.subplot(1, 2, 1)\n",
    "plt.imshow(image)\n",
    "plt.subplot(1, 2, 2)\n",
    "plt.imshow(seg)\n",
    "plt.show()"
   ]
  },
  {
   "cell_type": "code",
   "execution_count": null,
   "metadata": {},
   "outputs": [],
   "source": []
  }
 ],
 "metadata": {
  "kernelspec": {
   "display_name": "Python 3",
   "language": "python",
   "name": "python3"
  },
  "language_info": {
   "codemirror_mode": {
    "name": "ipython",
    "version": 3
   },
   "file_extension": ".py",
   "mimetype": "text/x-python",
   "name": "python",
   "nbconvert_exporter": "python",
   "pygments_lexer": "ipython3",
   "version": "3.7.6"
  }
 },
 "nbformat": 4,
 "nbformat_minor": 4
}
